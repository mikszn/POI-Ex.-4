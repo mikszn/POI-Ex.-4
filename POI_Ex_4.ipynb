{
  "cells": [
    {
      "cell_type": "markdown",
      "metadata": {
        "id": "view-in-github",
        "colab_type": "text"
      },
      "source": [
        "<a href=\"https://colab.research.google.com/github/mikszn/POI-Ex.-4/blob/main/POI_Ex_4.ipynb\" target=\"_parent\"><img src=\"https://colab.research.google.com/assets/colab-badge.svg\" alt=\"Open In Colab\"/></a>"
      ]
    },
    {
      "cell_type": "code",
      "execution_count": 1,
      "id": "8b73bedb",
      "metadata": {
        "scrolled": true,
        "id": "8b73bedb"
      },
      "outputs": [],
      "source": [
        "import numpy as np\n",
        "from tensorflow.keras import Sequential\n",
        "from tensorflow.keras.layers import Dense\n",
        "import pandas as pd\n",
        "from sklearn.model_selection import train_test_split\n",
        "from sklearn.metrics import confusion_matrix\n",
        "from sklearn.preprocessing import OneHotEncoder, LabelEncoder"
      ]
    },
    {
      "cell_type": "code",
      "execution_count": 2,
      "id": "2abb3bfb",
      "metadata": {
        "id": "2abb3bfb"
      },
      "outputs": [],
      "source": [
        "features = pd.read_csv('textures_data.csv', sep=' ')"
      ]
    },
    {
      "cell_type": "code",
      "execution_count": 3,
      "id": "55307a94",
      "metadata": {
        "id": "55307a94"
      },
      "outputs": [],
      "source": [
        "data = np.array(features)\n",
        "X = data[:,:-1].astype('float64') # wyodrębnienie cech (jako floaty)\n",
        "Y = data[:,-1]    # wyodrębnienie etykiet"
      ]
    },
    {
      "cell_type": "code",
      "execution_count": 4,
      "id": "a1387458",
      "metadata": {
        "colab": {
          "base_uri": "https://localhost:8080/"
        },
        "id": "a1387458",
        "outputId": "38eac4f6-6e5a-48ef-d88e-3adb529c1adb"
      },
      "outputs": [
        {
          "output_type": "stream",
          "name": "stderr",
          "text": [
            "/usr/local/lib/python3.10/dist-packages/sklearn/preprocessing/_encoders.py:868: FutureWarning: `sparse` was renamed to `sparse_output` in version 1.2 and will be removed in 1.4. `sparse_output` is ignored unless you leave `sparse` to its default value.\n",
            "  warnings.warn(\n"
          ]
        }
      ],
      "source": [
        "# Kodowanie całkowitoliczbowe\n",
        "label_encoder = LabelEncoder()\n",
        "integer_encoded = label_encoder.fit_transform(Y)\n",
        "\n",
        "# Kodowanie jeden z n\n",
        "oneshot_encoder = OneHotEncoder(sparse=False)\n",
        "integer_encoded = integer_encoded.reshape(len(integer_encoded), 1)\n",
        "oneshot_encoded = oneshot_encoder.fit_transform(integer_encoded)"
      ]
    },
    {
      "cell_type": "code",
      "execution_count": 5,
      "id": "66a6d868",
      "metadata": {
        "id": "66a6d868"
      },
      "outputs": [],
      "source": [
        "x_train, x_test, y_train, y_test = train_test_split(X, oneshot_encoded, test_size=0.3)"
      ]
    },
    {
      "cell_type": "code",
      "execution_count": 6,
      "id": "2edbc061",
      "metadata": {
        "colab": {
          "base_uri": "https://localhost:8080/"
        },
        "id": "2edbc061",
        "outputId": "2851333a-85f3-459b-a275-92cc8cd051fe"
      },
      "outputs": [
        {
          "output_type": "stream",
          "name": "stdout",
          "text": [
            "Model: \"sequential\"\n",
            "_________________________________________________________________\n",
            " Layer (type)                Output Shape              Param #   \n",
            "=================================================================\n",
            " dense (Dense)               (None, 10)                730       \n",
            "                                                                 \n",
            " dense_1 (Dense)             (None, 4)                 44        \n",
            "                                                                 \n",
            "=================================================================\n",
            "Total params: 774\n",
            "Trainable params: 774\n",
            "Non-trainable params: 0\n",
            "_________________________________________________________________\n"
          ]
        }
      ],
      "source": [
        "model = Sequential()\n",
        "model.add(Dense(10, input_dim=72, activation='sigmoid'))\n",
        "model.add(Dense(4, activation='softmax'))\n",
        "\n",
        "model.compile(loss='categorical_crossentropy', optimizer='sgd', metrics=['accuracy'])\n",
        "\n",
        "model.summary()\n"
      ]
    },
    {
      "cell_type": "code",
      "execution_count": 7,
      "id": "418a5a95",
      "metadata": {
        "scrolled": true,
        "colab": {
          "base_uri": "https://localhost:8080/"
        },
        "id": "418a5a95",
        "outputId": "881d8332-651c-4722-9ba3-01ec63184292"
      },
      "outputs": [
        {
          "output_type": "stream",
          "name": "stdout",
          "text": [
            "Epoch 1/100\n",
            "14/14 [==============================] - 5s 4ms/step - loss: 1.3793 - accuracy: 0.5299\n",
            "Epoch 2/100\n",
            "14/14 [==============================] - 0s 4ms/step - loss: 1.2873 - accuracy: 0.5373\n",
            "Epoch 3/100\n",
            "14/14 [==============================] - 0s 3ms/step - loss: 1.2270 - accuracy: 0.5373\n",
            "Epoch 4/100\n",
            "14/14 [==============================] - 0s 3ms/step - loss: 1.1817 - accuracy: 0.5373\n",
            "Epoch 5/100\n",
            "14/14 [==============================] - 0s 3ms/step - loss: 1.1438 - accuracy: 0.5373\n",
            "Epoch 6/100\n",
            "14/14 [==============================] - 0s 4ms/step - loss: 1.1192 - accuracy: 0.5373\n",
            "Epoch 7/100\n",
            "14/14 [==============================] - 0s 3ms/step - loss: 1.0808 - accuracy: 0.5373\n",
            "Epoch 8/100\n",
            "14/14 [==============================] - 0s 3ms/step - loss: 1.0630 - accuracy: 0.5373\n",
            "Epoch 9/100\n",
            "14/14 [==============================] - 0s 4ms/step - loss: 1.0359 - accuracy: 0.5597\n",
            "Epoch 10/100\n",
            "14/14 [==============================] - 0s 3ms/step - loss: 1.0057 - accuracy: 0.7313\n",
            "Epoch 11/100\n",
            "14/14 [==============================] - 0s 4ms/step - loss: 0.9691 - accuracy: 0.9552\n",
            "Epoch 12/100\n",
            "14/14 [==============================] - 0s 3ms/step - loss: 0.9139 - accuracy: 0.9851\n",
            "Epoch 13/100\n",
            "14/14 [==============================] - 0s 4ms/step - loss: 0.8879 - accuracy: 0.9776\n",
            "Epoch 14/100\n",
            "14/14 [==============================] - 0s 3ms/step - loss: 0.8533 - accuracy: 1.0000\n",
            "Epoch 15/100\n",
            "14/14 [==============================] - 0s 4ms/step - loss: 0.8289 - accuracy: 1.0000\n",
            "Epoch 16/100\n",
            "14/14 [==============================] - 0s 3ms/step - loss: 0.8050 - accuracy: 1.0000\n",
            "Epoch 17/100\n",
            "14/14 [==============================] - 0s 3ms/step - loss: 0.7855 - accuracy: 1.0000\n",
            "Epoch 18/100\n",
            "14/14 [==============================] - 0s 3ms/step - loss: 0.7645 - accuracy: 1.0000\n",
            "Epoch 19/100\n",
            "14/14 [==============================] - 0s 3ms/step - loss: 0.7462 - accuracy: 1.0000\n",
            "Epoch 20/100\n",
            "14/14 [==============================] - 0s 3ms/step - loss: 0.7262 - accuracy: 1.0000\n",
            "Epoch 21/100\n",
            "14/14 [==============================] - 0s 4ms/step - loss: 0.7081 - accuracy: 1.0000\n",
            "Epoch 22/100\n",
            "14/14 [==============================] - 0s 3ms/step - loss: 0.6919 - accuracy: 1.0000\n",
            "Epoch 23/100\n",
            "14/14 [==============================] - 0s 3ms/step - loss: 0.6768 - accuracy: 1.0000\n",
            "Epoch 24/100\n",
            "14/14 [==============================] - 0s 3ms/step - loss: 0.6617 - accuracy: 1.0000\n",
            "Epoch 25/100\n",
            "14/14 [==============================] - 0s 3ms/step - loss: 0.6459 - accuracy: 1.0000\n",
            "Epoch 26/100\n",
            "14/14 [==============================] - 0s 5ms/step - loss: 0.6309 - accuracy: 1.0000\n",
            "Epoch 27/100\n",
            "14/14 [==============================] - 0s 5ms/step - loss: 0.6167 - accuracy: 1.0000\n",
            "Epoch 28/100\n",
            "14/14 [==============================] - 0s 4ms/step - loss: 0.6039 - accuracy: 1.0000\n",
            "Epoch 29/100\n",
            "14/14 [==============================] - 0s 5ms/step - loss: 0.5897 - accuracy: 1.0000\n",
            "Epoch 30/100\n",
            "14/14 [==============================] - 0s 5ms/step - loss: 0.5777 - accuracy: 1.0000\n",
            "Epoch 31/100\n",
            "14/14 [==============================] - 0s 4ms/step - loss: 0.5644 - accuracy: 1.0000\n",
            "Epoch 32/100\n",
            "14/14 [==============================] - 0s 4ms/step - loss: 0.5543 - accuracy: 1.0000\n",
            "Epoch 33/100\n",
            "14/14 [==============================] - 0s 5ms/step - loss: 0.5415 - accuracy: 1.0000\n",
            "Epoch 34/100\n",
            "14/14 [==============================] - 0s 6ms/step - loss: 0.5298 - accuracy: 1.0000\n",
            "Epoch 35/100\n",
            "14/14 [==============================] - 0s 5ms/step - loss: 0.5187 - accuracy: 1.0000\n",
            "Epoch 36/100\n",
            "14/14 [==============================] - 0s 4ms/step - loss: 0.5084 - accuracy: 1.0000\n",
            "Epoch 37/100\n",
            "14/14 [==============================] - 0s 5ms/step - loss: 0.4992 - accuracy: 1.0000\n",
            "Epoch 38/100\n",
            "14/14 [==============================] - 0s 4ms/step - loss: 0.4891 - accuracy: 1.0000\n",
            "Epoch 39/100\n",
            "14/14 [==============================] - 0s 4ms/step - loss: 0.4809 - accuracy: 1.0000\n",
            "Epoch 40/100\n",
            "14/14 [==============================] - 0s 4ms/step - loss: 0.4702 - accuracy: 1.0000\n",
            "Epoch 41/100\n",
            "14/14 [==============================] - 0s 4ms/step - loss: 0.4618 - accuracy: 1.0000\n",
            "Epoch 42/100\n",
            "14/14 [==============================] - 0s 5ms/step - loss: 0.4529 - accuracy: 1.0000\n",
            "Epoch 43/100\n",
            "14/14 [==============================] - 0s 5ms/step - loss: 0.4448 - accuracy: 1.0000\n",
            "Epoch 44/100\n",
            "14/14 [==============================] - 0s 5ms/step - loss: 0.4367 - accuracy: 1.0000\n",
            "Epoch 45/100\n",
            "14/14 [==============================] - 0s 5ms/step - loss: 0.4282 - accuracy: 1.0000\n",
            "Epoch 46/100\n",
            "14/14 [==============================] - 0s 4ms/step - loss: 0.4210 - accuracy: 1.0000\n",
            "Epoch 47/100\n",
            "14/14 [==============================] - 0s 5ms/step - loss: 0.4127 - accuracy: 1.0000\n",
            "Epoch 48/100\n",
            "14/14 [==============================] - 0s 4ms/step - loss: 0.4065 - accuracy: 1.0000\n",
            "Epoch 49/100\n",
            "14/14 [==============================] - 0s 5ms/step - loss: 0.3985 - accuracy: 1.0000\n",
            "Epoch 50/100\n",
            "14/14 [==============================] - 0s 5ms/step - loss: 0.3918 - accuracy: 1.0000\n",
            "Epoch 51/100\n",
            "14/14 [==============================] - 0s 5ms/step - loss: 0.3853 - accuracy: 1.0000\n",
            "Epoch 52/100\n",
            "14/14 [==============================] - 0s 5ms/step - loss: 0.3791 - accuracy: 1.0000\n",
            "Epoch 53/100\n",
            "14/14 [==============================] - 0s 4ms/step - loss: 0.3721 - accuracy: 1.0000\n",
            "Epoch 54/100\n",
            "14/14 [==============================] - 0s 5ms/step - loss: 0.3660 - accuracy: 1.0000\n",
            "Epoch 55/100\n",
            "14/14 [==============================] - 0s 4ms/step - loss: 0.3602 - accuracy: 1.0000\n",
            "Epoch 56/100\n",
            "14/14 [==============================] - 0s 4ms/step - loss: 0.3550 - accuracy: 1.0000\n",
            "Epoch 57/100\n",
            "14/14 [==============================] - 0s 4ms/step - loss: 0.3485 - accuracy: 1.0000\n",
            "Epoch 58/100\n",
            "14/14 [==============================] - 0s 4ms/step - loss: 0.3438 - accuracy: 1.0000\n",
            "Epoch 59/100\n",
            "14/14 [==============================] - 0s 5ms/step - loss: 0.3378 - accuracy: 1.0000\n",
            "Epoch 60/100\n",
            "14/14 [==============================] - 0s 4ms/step - loss: 0.3328 - accuracy: 1.0000\n",
            "Epoch 61/100\n",
            "14/14 [==============================] - 0s 4ms/step - loss: 0.3276 - accuracy: 1.0000\n",
            "Epoch 62/100\n",
            "14/14 [==============================] - 0s 5ms/step - loss: 0.3226 - accuracy: 1.0000\n",
            "Epoch 63/100\n",
            "14/14 [==============================] - 0s 5ms/step - loss: 0.3183 - accuracy: 1.0000\n",
            "Epoch 64/100\n",
            "14/14 [==============================] - 0s 4ms/step - loss: 0.3131 - accuracy: 1.0000\n",
            "Epoch 65/100\n",
            "14/14 [==============================] - 0s 4ms/step - loss: 0.3089 - accuracy: 1.0000\n",
            "Epoch 66/100\n",
            "14/14 [==============================] - 0s 4ms/step - loss: 0.3044 - accuracy: 1.0000\n",
            "Epoch 67/100\n",
            "14/14 [==============================] - 0s 5ms/step - loss: 0.2998 - accuracy: 1.0000\n",
            "Epoch 68/100\n",
            "14/14 [==============================] - 0s 4ms/step - loss: 0.2957 - accuracy: 1.0000\n",
            "Epoch 69/100\n",
            "14/14 [==============================] - 0s 4ms/step - loss: 0.2916 - accuracy: 1.0000\n",
            "Epoch 70/100\n",
            "14/14 [==============================] - 0s 4ms/step - loss: 0.2876 - accuracy: 1.0000\n",
            "Epoch 71/100\n",
            "14/14 [==============================] - 0s 3ms/step - loss: 0.2835 - accuracy: 1.0000\n",
            "Epoch 72/100\n",
            "14/14 [==============================] - 0s 3ms/step - loss: 0.2798 - accuracy: 1.0000\n",
            "Epoch 73/100\n",
            "14/14 [==============================] - 0s 3ms/step - loss: 0.2759 - accuracy: 1.0000\n",
            "Epoch 74/100\n",
            "14/14 [==============================] - 0s 3ms/step - loss: 0.2724 - accuracy: 1.0000\n",
            "Epoch 75/100\n",
            "14/14 [==============================] - 0s 4ms/step - loss: 0.2688 - accuracy: 1.0000\n",
            "Epoch 76/100\n",
            "14/14 [==============================] - 0s 3ms/step - loss: 0.2651 - accuracy: 1.0000\n",
            "Epoch 77/100\n",
            "14/14 [==============================] - 0s 3ms/step - loss: 0.2619 - accuracy: 1.0000\n",
            "Epoch 78/100\n",
            "14/14 [==============================] - 0s 3ms/step - loss: 0.2586 - accuracy: 1.0000\n",
            "Epoch 79/100\n",
            "14/14 [==============================] - 0s 3ms/step - loss: 0.2552 - accuracy: 1.0000\n",
            "Epoch 80/100\n",
            "14/14 [==============================] - 0s 3ms/step - loss: 0.2520 - accuracy: 1.0000\n",
            "Epoch 81/100\n",
            "14/14 [==============================] - 0s 3ms/step - loss: 0.2491 - accuracy: 1.0000\n",
            "Epoch 82/100\n",
            "14/14 [==============================] - 0s 3ms/step - loss: 0.2457 - accuracy: 1.0000\n",
            "Epoch 83/100\n",
            "14/14 [==============================] - 0s 3ms/step - loss: 0.2426 - accuracy: 1.0000\n",
            "Epoch 84/100\n",
            "14/14 [==============================] - 0s 3ms/step - loss: 0.2398 - accuracy: 1.0000\n",
            "Epoch 85/100\n",
            "14/14 [==============================] - 0s 3ms/step - loss: 0.2371 - accuracy: 1.0000\n",
            "Epoch 86/100\n",
            "14/14 [==============================] - 0s 4ms/step - loss: 0.2341 - accuracy: 1.0000\n",
            "Epoch 87/100\n",
            "14/14 [==============================] - 0s 3ms/step - loss: 0.2314 - accuracy: 1.0000\n",
            "Epoch 88/100\n",
            "14/14 [==============================] - 0s 3ms/step - loss: 0.2289 - accuracy: 1.0000\n",
            "Epoch 89/100\n",
            "14/14 [==============================] - 0s 3ms/step - loss: 0.2264 - accuracy: 1.0000\n",
            "Epoch 90/100\n",
            "14/14 [==============================] - 0s 3ms/step - loss: 0.2234 - accuracy: 1.0000\n",
            "Epoch 91/100\n",
            "14/14 [==============================] - 0s 3ms/step - loss: 0.2209 - accuracy: 1.0000\n",
            "Epoch 92/100\n",
            "14/14 [==============================] - 0s 3ms/step - loss: 0.2186 - accuracy: 1.0000\n",
            "Epoch 93/100\n",
            "14/14 [==============================] - 0s 3ms/step - loss: 0.2161 - accuracy: 1.0000\n",
            "Epoch 94/100\n",
            "14/14 [==============================] - 0s 4ms/step - loss: 0.2135 - accuracy: 1.0000\n",
            "Epoch 95/100\n",
            "14/14 [==============================] - 0s 3ms/step - loss: 0.2114 - accuracy: 1.0000\n",
            "Epoch 96/100\n",
            "14/14 [==============================] - 0s 3ms/step - loss: 0.2089 - accuracy: 1.0000\n",
            "Epoch 97/100\n",
            "14/14 [==============================] - 0s 3ms/step - loss: 0.2069 - accuracy: 1.0000\n",
            "Epoch 98/100\n",
            "14/14 [==============================] - 0s 4ms/step - loss: 0.2047 - accuracy: 1.0000\n",
            "Epoch 99/100\n",
            "14/14 [==============================] - 0s 4ms/step - loss: 0.2024 - accuracy: 1.0000\n",
            "Epoch 100/100\n",
            "14/14 [==============================] - 0s 3ms/step - loss: 0.2002 - accuracy: 1.0000\n"
          ]
        },
        {
          "output_type": "execute_result",
          "data": {
            "text/plain": [
              "<keras.callbacks.History at 0x7facd80dfd00>"
            ]
          },
          "metadata": {},
          "execution_count": 7
        }
      ],
      "source": [
        "model.fit(x_train, y_train, epochs=100, batch_size=10, shuffle=True)"
      ]
    },
    {
      "cell_type": "code",
      "execution_count": 8,
      "id": "6ff94293",
      "metadata": {
        "colab": {
          "base_uri": "https://localhost:8080/"
        },
        "id": "6ff94293",
        "outputId": "a0e30c33-0220-4fc5-da14-f9fdd51cb9a5"
      },
      "outputs": [
        {
          "output_type": "stream",
          "name": "stdout",
          "text": [
            "2/2 [==============================] - 0s 6ms/step\n",
            "[[20  0  0  0]\n",
            " [ 0 12  0  0]\n",
            " [ 0  0 12  0]\n",
            " [ 0  0  0 14]]\n"
          ]
        }
      ],
      "source": [
        "y_pred = model.predict(x_test)\n",
        "y_pred_int = np.argmax(y_pred, axis=1)\n",
        "y_test_int = np.argmax(y_test, axis=1)\n",
        "cm = confusion_matrix(y_test_int, y_pred_int)\n",
        "print(cm)"
      ]
    }
  ],
  "metadata": {
    "kernelspec": {
      "display_name": "Python 3",
      "name": "python3"
    },
    "language_info": {
      "codemirror_mode": {
        "name": "ipython",
        "version": 3
      },
      "file_extension": ".py",
      "mimetype": "text/x-python",
      "name": "python",
      "nbconvert_exporter": "python",
      "pygments_lexer": "ipython3",
      "version": "3.9.13"
    },
    "colab": {
      "provenance": [],
      "gpuType": "T4",
      "include_colab_link": true
    },
    "accelerator": "GPU"
  },
  "nbformat": 4,
  "nbformat_minor": 5
}